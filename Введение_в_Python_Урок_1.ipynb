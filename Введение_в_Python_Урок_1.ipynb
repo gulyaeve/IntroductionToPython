{
 "cells": [
  {
   "cell_type": "code",
   "execution_count": 1,
   "id": "db4e01fd",
   "metadata": {},
   "outputs": [
    {
     "name": "stdout",
     "output_type": "stream",
     "text": [
      "The Zen of Python, by Tim Peters\n",
      "\n",
      "Beautiful is better than ugly.\n",
      "Explicit is better than implicit.\n",
      "Simple is better than complex.\n",
      "Complex is better than complicated.\n",
      "Flat is better than nested.\n",
      "Sparse is better than dense.\n",
      "Readability counts.\n",
      "Special cases aren't special enough to break the rules.\n",
      "Although practicality beats purity.\n",
      "Errors should never pass silently.\n",
      "Unless explicitly silenced.\n",
      "In the face of ambiguity, refuse the temptation to guess.\n",
      "There should be one-- and preferably only one --obvious way to do it.\n",
      "Although that way may not be obvious at first unless you're Dutch.\n",
      "Now is better than never.\n",
      "Although never is often better than *right* now.\n",
      "If the implementation is hard to explain, it's a bad idea.\n",
      "If the implementation is easy to explain, it may be a good idea.\n",
      "Namespaces are one honking great idea -- let's do more of those!\n"
     ]
    }
   ],
   "source": [
    "# Вывод на экран дзена Python\n",
    "import this"
   ]
  },
  {
   "cell_type": "code",
   "execution_count": 2,
   "id": "30780387",
   "metadata": {},
   "outputs": [
    {
     "name": "stdout",
     "output_type": "stream",
     "text": [
      "Hello, World!\n"
     ]
    }
   ],
   "source": [
    "# Простейшая программа \"Hello, World!\"\n",
    "print(\"Hello, World!\")"
   ]
  },
  {
   "cell_type": "code",
   "execution_count": 1,
   "id": "2c89a8b5",
   "metadata": {},
   "outputs": [],
   "source": [
    "# Переменные\n",
    "# Переменная – это величина, имеющая имя, тип и значение.\n",
    "# Значение переменной можно изменять во время работы программы.\n",
    "# В имени переменной МОЖНО использовать:\n",
    "# - латинские буквы (A-Z, a-z)\n",
    "# - русские буквы (не рекомендуется!)\n",
    "# - цифры (Но имя не должно начинаться с цифры)\n",
    "# - знак подчеркивания _\n",
    "new_variable = \"Привет, Мир!\""
   ]
  },
  {
   "cell_type": "code",
   "execution_count": 2,
   "id": "1581015b",
   "metadata": {},
   "outputs": [
    {
     "data": {
      "text/plain": [
       "['False',\n",
       " 'None',\n",
       " 'True',\n",
       " 'and',\n",
       " 'as',\n",
       " 'assert',\n",
       " 'async',\n",
       " 'await',\n",
       " 'break',\n",
       " 'class',\n",
       " 'continue',\n",
       " 'def',\n",
       " 'del',\n",
       " 'elif',\n",
       " 'else',\n",
       " 'except',\n",
       " 'finally',\n",
       " 'for',\n",
       " 'from',\n",
       " 'global',\n",
       " 'if',\n",
       " 'import',\n",
       " 'in',\n",
       " 'is',\n",
       " 'lambda',\n",
       " 'nonlocal',\n",
       " 'not',\n",
       " 'or',\n",
       " 'pass',\n",
       " 'raise',\n",
       " 'return',\n",
       " 'try',\n",
       " 'while',\n",
       " 'with',\n",
       " 'yield']"
      ]
     },
     "execution_count": 2,
     "metadata": {},
     "output_type": "execute_result"
    }
   ],
   "source": [
    "# Именем переменной не может быть одно из ключевых слов:\n",
    "import keyword\n",
    "keyword.kwlist"
   ]
  },
  {
   "cell_type": "code",
   "execution_count": 3,
   "id": "c70f49ad",
   "metadata": {},
   "outputs": [
    {
     "data": {
      "text/plain": [
       "['ArithmeticError',\n",
       " 'AssertionError',\n",
       " 'AttributeError',\n",
       " 'BaseException',\n",
       " 'BaseExceptionGroup',\n",
       " 'BlockingIOError',\n",
       " 'BrokenPipeError',\n",
       " 'BufferError',\n",
       " 'BytesWarning',\n",
       " 'ChildProcessError',\n",
       " 'ConnectionAbortedError',\n",
       " 'ConnectionError',\n",
       " 'ConnectionRefusedError',\n",
       " 'ConnectionResetError',\n",
       " 'DeprecationWarning',\n",
       " 'EOFError',\n",
       " 'Ellipsis',\n",
       " 'EncodingWarning',\n",
       " 'EnvironmentError',\n",
       " 'Exception',\n",
       " 'ExceptionGroup',\n",
       " 'False',\n",
       " 'FileExistsError',\n",
       " 'FileNotFoundError',\n",
       " 'FloatingPointError',\n",
       " 'FutureWarning',\n",
       " 'GeneratorExit',\n",
       " 'IOError',\n",
       " 'ImportError',\n",
       " 'ImportWarning',\n",
       " 'IndentationError',\n",
       " 'IndexError',\n",
       " 'InterruptedError',\n",
       " 'IsADirectoryError',\n",
       " 'KeyError',\n",
       " 'KeyboardInterrupt',\n",
       " 'LookupError',\n",
       " 'MemoryError',\n",
       " 'ModuleNotFoundError',\n",
       " 'NameError',\n",
       " 'None',\n",
       " 'NotADirectoryError',\n",
       " 'NotImplemented',\n",
       " 'NotImplementedError',\n",
       " 'OSError',\n",
       " 'OverflowError',\n",
       " 'PendingDeprecationWarning',\n",
       " 'PermissionError',\n",
       " 'ProcessLookupError',\n",
       " 'RecursionError',\n",
       " 'ReferenceError',\n",
       " 'ResourceWarning',\n",
       " 'RuntimeError',\n",
       " 'RuntimeWarning',\n",
       " 'StopAsyncIteration',\n",
       " 'StopIteration',\n",
       " 'SyntaxError',\n",
       " 'SyntaxWarning',\n",
       " 'SystemError',\n",
       " 'SystemExit',\n",
       " 'TabError',\n",
       " 'TimeoutError',\n",
       " 'True',\n",
       " 'TypeError',\n",
       " 'UnboundLocalError',\n",
       " 'UnicodeDecodeError',\n",
       " 'UnicodeEncodeError',\n",
       " 'UnicodeError',\n",
       " 'UnicodeTranslateError',\n",
       " 'UnicodeWarning',\n",
       " 'UserWarning',\n",
       " 'ValueError',\n",
       " 'Warning',\n",
       " 'ZeroDivisionError',\n",
       " '__IPYTHON__',\n",
       " '__build_class__',\n",
       " '__debug__',\n",
       " '__doc__',\n",
       " '__import__',\n",
       " '__loader__',\n",
       " '__name__',\n",
       " '__package__',\n",
       " '__spec__',\n",
       " 'abs',\n",
       " 'aiter',\n",
       " 'all',\n",
       " 'anext',\n",
       " 'any',\n",
       " 'ascii',\n",
       " 'bin',\n",
       " 'bool',\n",
       " 'breakpoint',\n",
       " 'bytearray',\n",
       " 'bytes',\n",
       " 'callable',\n",
       " 'chr',\n",
       " 'classmethod',\n",
       " 'compile',\n",
       " 'complex',\n",
       " 'copyright',\n",
       " 'credits',\n",
       " 'delattr',\n",
       " 'dict',\n",
       " 'dir',\n",
       " 'display',\n",
       " 'divmod',\n",
       " 'enumerate',\n",
       " 'eval',\n",
       " 'exec',\n",
       " 'execfile',\n",
       " 'filter',\n",
       " 'float',\n",
       " 'format',\n",
       " 'frozenset',\n",
       " 'get_ipython',\n",
       " 'getattr',\n",
       " 'globals',\n",
       " 'hasattr',\n",
       " 'hash',\n",
       " 'help',\n",
       " 'hex',\n",
       " 'id',\n",
       " 'input',\n",
       " 'int',\n",
       " 'isinstance',\n",
       " 'issubclass',\n",
       " 'iter',\n",
       " 'len',\n",
       " 'license',\n",
       " 'list',\n",
       " 'locals',\n",
       " 'map',\n",
       " 'max',\n",
       " 'memoryview',\n",
       " 'min',\n",
       " 'next',\n",
       " 'object',\n",
       " 'oct',\n",
       " 'open',\n",
       " 'ord',\n",
       " 'pow',\n",
       " 'print',\n",
       " 'property',\n",
       " 'range',\n",
       " 'repr',\n",
       " 'reversed',\n",
       " 'round',\n",
       " 'runfile',\n",
       " 'set',\n",
       " 'setattr',\n",
       " 'slice',\n",
       " 'sorted',\n",
       " 'staticmethod',\n",
       " 'str',\n",
       " 'sum',\n",
       " 'super',\n",
       " 'tuple',\n",
       " 'type',\n",
       " 'vars',\n",
       " 'zip']"
      ]
     },
     "execution_count": 3,
     "metadata": {},
     "output_type": "execute_result"
    }
   ],
   "source": [
    "# Также имя переменной не может совпадать со встроенным идентификатором:\n",
    "import builtins\n",
    "dir(builtins)"
   ]
  },
  {
   "cell_type": "code",
   "execution_count": 1,
   "id": "44669dfc",
   "metadata": {},
   "outputs": [
    {
     "name": "stdout",
     "output_type": "stream",
     "text": [
      "4 <class 'int'>\n",
      "3.5 <class 'float'>\n",
      "Вася <class 'str'>\n",
      "True <class 'bool'>\n"
     ]
    }
   ],
   "source": [
    "# Типы переменных\n",
    "\n",
    "# Целое число:\n",
    "a = 4\n",
    "print(a, type(a))\n",
    "\n",
    "# Вещественное число:\n",
    "b = 3.5\n",
    "print(b, type(b))\n",
    "\n",
    "# Символьная строка:\n",
    "s = \"Вася\"\n",
    "print(s, type(s))\n",
    "\n",
    "# Логическая:\n",
    "i = True\n",
    "print(i, type(i))"
   ]
  },
  {
   "cell_type": "code",
   "execution_count": 2,
   "id": "68776228",
   "metadata": {},
   "outputs": [],
   "source": [
    "# Тип определяет:\n",
    "# - область допустимых значений\n",
    "# - допустимые операции\n",
    "# - объём памяти\n",
    "# - формат хранения данных"
   ]
  },
  {
   "cell_type": "code",
   "execution_count": 3,
   "id": "34a64f71",
   "metadata": {},
   "outputs": [
    {
     "name": "stdout",
     "output_type": "stream",
     "text": [
      "4\n",
      "5\n"
     ]
    }
   ],
   "source": [
    "# Запись значения в переменную, оператор присваивания =\n",
    "a = 4\n",
    "print(a)\n",
    "# При записи нового значения старое удаляется:\n",
    "a = 5\n",
    "print(a)"
   ]
  },
  {
   "cell_type": "code",
   "execution_count": 4,
   "id": "32c8466c",
   "metadata": {},
   "outputs": [
    {
     "name": "stdout",
     "output_type": "stream",
     "text": [
      "1\n",
      "2\n",
      "12\n"
     ]
    }
   ],
   "source": [
    "# Ввод значения с клавиатуры (встроенная функция input)\n",
    "a = input()\n",
    "b = input()\n",
    "# Математическая операция сложения +\n",
    "c = a + b\n",
    "# Вывод на экран значения переменной (встроенная функция print)\n",
    "print(c)"
   ]
  },
  {
   "cell_type": "code",
   "execution_count": 5,
   "id": "81d52305",
   "metadata": {},
   "outputs": [
    {
     "name": "stdout",
     "output_type": "stream",
     "text": [
      "1\n",
      "2\n",
      "3\n"
     ]
    }
   ],
   "source": [
    "# Почему в выводе 12 а не 3?\n",
    "# Встроенная функция input возвращает тип данных str (символьная строка).\n",
    "# Мы можем преобразовать вводимое значение в число\n",
    "# Для этого воспользуемся встроенной функцией int:\n",
    "a = int(input())\n",
    "b = int(input())\n",
    "# Математическая операция сложения +\n",
    "c = a + b\n",
    "# Вывод на экран значения переменной (встроенная функция print)\n",
    "print(c)"
   ]
  },
  {
   "cell_type": "code",
   "execution_count": 6,
   "id": "f28879de",
   "metadata": {},
   "outputs": [
    {
     "name": "stdout",
     "output_type": "stream",
     "text": [
      "Введите число: 1\n",
      "Введите число: 2\n",
      "Результат сложения:  3\n"
     ]
    }
   ],
   "source": [
    "# В функции input() можно передать подсказку для ввода в качестве первого аргумента:\n",
    "a = int(input(\"Введите число: \"))\n",
    "b = int(input(\"Введите число: \"))\n",
    "# Математическая операция сложения +\n",
    "c = a + b\n",
    "# Вывод на экран значения переменной (встроенная функция print)\n",
    "print(\"Результат сложения: \", c)"
   ]
  },
  {
   "cell_type": "code",
   "execution_count": 7,
   "id": "6da8b9f2",
   "metadata": {},
   "outputs": [
    {
     "name": "stdout",
     "output_type": "stream",
     "text": [
      "Введите число: 1\n",
      "Введите число: 2\n",
      "Результат сложения: 3\n"
     ]
    }
   ],
   "source": [
    "# Для удобства вывод воспользуемся f-строкой:\n",
    "a = int(input(\"Введите число: \"))\n",
    "b = int(input(\"Введите число: \"))\n",
    "c = a + b\n",
    "print(f\"Результат сложения: {c}\")"
   ]
  },
  {
   "cell_type": "code",
   "execution_count": 8,
   "id": "8fe871da",
   "metadata": {},
   "outputs": [
    {
     "name": "stdout",
     "output_type": "stream",
     "text": [
      "Введите число: 4\n",
      "a больше чем 3\n"
     ]
    }
   ],
   "source": [
    "# Ветвления\n",
    "# Ветвления позволяют менять порядок выполнения программы в зависимости от выполнения условия:\n",
    "a = int(input(\"Введите число: \"))\n",
    "if a > 3:\n",
    "    print(\"a больше чем 3\")"
   ]
  },
  {
   "cell_type": "code",
   "execution_count": 9,
   "id": "03ee4911",
   "metadata": {},
   "outputs": [
    {
     "name": "stdout",
     "output_type": "stream",
     "text": [
      "Введите число: 1\n"
     ]
    }
   ],
   "source": [
    "a = int(input(\"Введите число: \"))\n",
    "if a > 3:\n",
    "    print(\"a больше чем 3\")"
   ]
  },
  {
   "cell_type": "code",
   "execution_count": 10,
   "id": "abd9f53f",
   "metadata": {},
   "outputs": [
    {
     "name": "stdout",
     "output_type": "stream",
     "text": [
      "Введите число: 2\n",
      "a меньше или равно 3\n"
     ]
    }
   ],
   "source": [
    "# Вывода не последовало, так как условие не выполнилось.\n",
    "# Для случая, когда условие не выполнено, воспользуемся else:\n",
    "a = int(input(\"Введите число: \"))\n",
    "if a > 3:\n",
    "    print(\"a больше чем 3\")\n",
    "else:\n",
    "    print(\"a меньше или равно 3\")"
   ]
  },
  {
   "cell_type": "code",
   "execution_count": 12,
   "id": "b8f0c25e",
   "metadata": {},
   "outputs": [
    {
     "name": "stdout",
     "output_type": "stream",
     "text": [
      "Введите число: 3\n",
      "a равно 3\n"
     ]
    }
   ],
   "source": [
    "# Ветвления можно собирать в более подробные конструкции при помощи elif:\n",
    "a = int(input(\"Введите число: \"))\n",
    "if a > 3:\n",
    "    print(\"a больше чем 3\")\n",
    "elif a == 3:\n",
    "    print(\"a равно 3\")\n",
    "else:\n",
    "    print(\"a меньше чем 3\")"
   ]
  },
  {
   "cell_type": "code",
   "execution_count": 13,
   "id": "1debc54b",
   "metadata": {},
   "outputs": [],
   "source": [
    "# Знаки отношений для проверки условий:\n",
    "# >, < - больше, меньше\n",
    "# >= - больше или равно\n",
    "# <= - меньше или равно\n",
    "# == - равно\n",
    "# != - не равно"
   ]
  },
  {
   "cell_type": "code",
   "execution_count": 14,
   "id": "cef48a4d",
   "metadata": {},
   "outputs": [
    {
     "name": "stdout",
     "output_type": "stream",
     "text": [
      "Введите ваше имя: Евгений\n",
      "Введите возраст: 35\n",
      "Вас зовут Евгений\n"
     ]
    }
   ],
   "source": [
    "# Циклы\n",
    "# циклы позволяют повторять определенный кусок программного кода\n",
    "# Цикл с условием while\n",
    "# В цикле с условием проверка условия осуществляется на входе в цикл\n",
    "# Организуем проверку ввода числа при помощи метода isdigit, который доступен для символьных строк:\n",
    "\n",
    "name = input(\"Введите ваше имя: \")\n",
    "age = input(\"Введите возраст: \")\n",
    "\n",
    "while not age.isdigit():\n",
    "    print(\"Вводите возраст числом, пожалуйста\")\n",
    "    # обязательно обновляем значение age, иначе цикл будет повторяться бесконечно (программу потребуется остановить)\n",
    "    age = input(\"Введите возраст: \")\n",
    "\n",
    "print(f\"Вас зовут {name}\")"
   ]
  },
  {
   "cell_type": "code",
   "execution_count": 15,
   "id": "12b32c6e",
   "metadata": {},
   "outputs": [
    {
     "name": "stdout",
     "output_type": "stream",
     "text": [
      "Введите ваше имя: Евгений\n",
      "Введите возраст: 35\n",
      "Вау, мне тоже 35 лет\n",
      "Вас зовут Евгений\n"
     ]
    }
   ],
   "source": [
    "# Добавим условия для вывода сообщения о возрасте:\n",
    "name = input(\"Введите ваше имя: \")\n",
    "age = input(\"Введите возраст: \")\n",
    "\n",
    "while not age.isdigit():\n",
    "    print(\"Вводите возраст числом, пожалуйста\")\n",
    "    # обязательно обновляем значение age, иначе цикл будет повторяться бесконечно (программу потребуется остановить)\n",
    "    age = input(\"Введите возраст: \")\n",
    "\n",
    "\n",
    "# метод endswith проверяет последний символ(символы), startswith проверяет начало строки\n",
    "if age.endswith(\"1\"):\n",
    "    print(f\"Вау, мне тоже {age} год\")\n",
    "elif age.startswith(\"1\") and len(age) == 2:\n",
    "    # встроенная функция len считает число символов в строке\n",
    "    print(f\"Вау, мне тоже {age} лет\")\n",
    "elif age.endswith((\"2\", \"3\", \"4\")):\n",
    "    print(f\"Вау, мне тоже {age} года\")\n",
    "else:\n",
    "    print(f\"Вау, мне тоже {age} лет\")\n",
    "    \n",
    "print(f\"Вас зовут {name}\")"
   ]
  },
  {
   "cell_type": "code",
   "execution_count": 16,
   "id": "6262a4a1",
   "metadata": {},
   "outputs": [],
   "source": [
    "# Задания для самостоятельного выполнения:\n",
    "#\n",
    "# Задание 1\n",
    "# Создайте две переменных и введите в них данные с клавиатуры. \n",
    "# Напишите простейший калькулятор, который умножает, делит, складывает, вычитает эти два числа, \n",
    "# выведите результаты на экран.\n",
    "#\n",
    "# Задание 2\n",
    "# Пользователь вводит число. Выведите на экран десятичное, двоичное, \n",
    "# восьмеричное и шестнадцатеричное представление этого числа с помощью функций bin(), oct(), hex().\n",
    "#\n",
    "# Задание 3\n",
    "# Пользователь вводит три числа а, b, с. Создайте переменную f, \n",
    "# в которую запишите результат выражения: (а * b) + (a * c). Выведите f на экран.\n",
    "#\n",
    "# Задание 4\n",
    "# Создайте две символьных переменных а и b. Занесите в них слова \"Вторник\" и \"Понедельник\". \n",
    "# Выведите слова так, чтобы понедельник шёл перед вторником и между ними находилась запятая с пробелом (\", \")\n",
    "#\n",
    "# Задание 5\n",
    "# Спросите у пользователя имя, возраст, место проживания и страну проживания. \n",
    "# Оформите вывод таким образом:\n",
    "# 'Уважаемый ИМЯ! На сегодняшний день Вы проживаете в стране СТРАНА, в городе \n",
    "# МЕСТО _ПРОЖИВАНИЯ, И ВЫ родились в 'ТАКОМ _ТО _ГОДУ''."
   ]
  },
  {
   "cell_type": "code",
   "execution_count": null,
   "id": "7c992a12",
   "metadata": {},
   "outputs": [],
   "source": []
  }
 ],
 "metadata": {
  "kernelspec": {
   "display_name": "Python 3 (ipykernel)",
   "language": "python",
   "name": "python3"
  },
  "language_info": {
   "codemirror_mode": {
    "name": "ipython",
    "version": 3
   },
   "file_extension": ".py",
   "mimetype": "text/x-python",
   "name": "python",
   "nbconvert_exporter": "python",
   "pygments_lexer": "ipython3",
   "version": "3.11.5"
  }
 },
 "nbformat": 4,
 "nbformat_minor": 5
}
